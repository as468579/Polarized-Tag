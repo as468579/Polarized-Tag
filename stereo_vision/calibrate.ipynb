{
 "cells": [
  {
   "cell_type": "markdown",
   "metadata": {},
   "source": [
    "# Configuration"
   ]
  },
  {
   "cell_type": "code",
   "execution_count": 2,
   "metadata": {},
   "outputs": [],
   "source": [
    "import numpy as np\n",
    "import cv2\n",
    "import glob\n",
    "\n",
    "# termination criteria\n",
    "criteria = (cv2.TERM_CRITERIA_EPS + cv2.TERM_CRITERIA_MAX_ITER, 30, 0.001)\n",
    "\n",
    "# prepare object points, like (0,0,0), (1,0,0), (2,0,0) ....,(6,5,0)\n",
    "objp = np.zeros((6*7,3), np.float32)\n",
    "objp[:,:2] = np.mgrid[0:7,0:6].T.reshape(-1,2)\n",
    "\n",
    "nRows = 10\n",
    "nCols = 8\n",
    "objp = np.zeros((nRows*nCols,3), np.float32)\n",
    "objp[:,:2] = np.mgrid[0:nCols,0:nRows].T.reshape(-1,2)\n"
   ]
  },
  {
   "cell_type": "markdown",
   "metadata": {},
   "source": [
    "# Parameter of left camera"
   ]
  },
  {
   "cell_type": "code",
   "execution_count": null,
   "metadata": {},
   "outputs": [],
   "source": [
    "# Arrays to store object points and image points from all the images.\n",
    "objpoints = [] # 3d point in real world space\n",
    "\n",
    "left_imgpoints = [] # 2d points in image plane.\n",
    "left_images = glob.glob('left.jpg')\n",
    "for fname in left_images:\n",
    "\n",
    "    img = cv2.imread(fname)\n",
    "    img = cv2.resize(img, (img.shape[1]//4, img.shape[0]//4))\n",
    "    gray = cv2.cvtColor(img,cv2.COLOR_BGR2GRAY)\n",
    "    size = gray.shape[::-1]\n",
    "    \n",
    "    # Find the chess board corners\n",
    "    ret, corners = cv2.findChessboardCorners(gray, (nCols,nRows),None)\n",
    "\n",
    "    # If found, add object points, image points (after refining them)\n",
    "    if ret == True:\n",
    "        objpoints.append(objp)\n",
    "        corners2 = cv2.cornerSubPix(gray,corners,(11,11),(-1,-1),criteria)\n",
    "        left_imgpoints.append(corners2)\n",
    "\n",
    "        # Draw and display the corners\n",
    "        img = cv2.drawChessboardCorners(img, (nCols, nRows), corners2,ret)\n",
    "        cv2.imshow('img',img)\n",
    "        cv2.waitKey(0)\n",
    "        cv2.destroyAllWindows()\n",
    "\n",
    "# 相機校正\n",
    "# left_ret, left_mtx, left_dist, left_rvecs, left_tvecs = cv2.calibrateCamera(objpoints, imgpoints,size)\n",
    "\n",
    "\n",
    "# Arrays to store object points and image points from all the images.\n",
    "objpoints = [] # 3d point in real world space\n",
    "right_imgpoints = [] # 2d points in image plane.\n",
    "\n",
    "right_images = glob.glob('right.jpg')\n",
    "\n",
    "for fname in right_images:\n",
    "    img = cv2.imread(fname)\n",
    "    img = cv2.resize(img, (img.shape[1]//4, img.shape[0]//4))\n",
    "    gray = cv2.cvtColor(img,cv2.COLOR_BGR2GRAY)\n",
    "    size = gray.shape[::-1]\n",
    "    \n",
    "    # Find the chess board corners\n",
    "    ret, corners = cv2.findChessboardCorners(gray, (nCols,nRows),None)\n",
    "\n",
    "    # If found, add object points, image points (after refining them)\n",
    "    if ret == True:\n",
    "        objpoints.append(objp)\n",
    "        corners2 = cv2.cornerSubPix(gray,corners,(11,11),(-1,-1),criteria)\n",
    "        right_imgpoints.append(corners2)\n",
    "\n",
    "        # Draw and display the corners\n",
    "        img = cv2.drawChessboardCorners(img, (nCols, nRows), corners2,ret)\n",
    "        cv2.imshow('img',img)\n",
    "        cv2.waitKey(0)\n",
    "        cv2.destroyAllWindows()\n",
    "\n",
    "# 相機校正\n",
    "# right_ret, right_mtx, right_dist, right_rvecs, right_tvecs = cv2.calibrateCamera(objpoints, imgpoints,size, None, None)\n",
    "\n",
    "ret, left_mtx, left_dist, right_mtx, right_dist, R, T, E, F = cv2.stereoCalibrate(objpoints, left_imgpoints, right_imgpoints, size, None, None, None, None)\n",
    "print(\"left_ret: {}\".format(ret))\n",
    "print(\"left_mtx: {}\".format(left_mtx))        # 內部參數矩陣\n",
    "print(\"left_dist: {}\".format(left_dist))      # 畸變係數   distortion cofficients = (k_1,k_2,p_1,p_2,k_3)\n",
    "print(\"left_rvecs: {}\".format(left_rvecs))    # 旋转向量  # 外参数\n",
    "print(\"left_tvecs: {}\".format(left_tvecs))    # 平移向量  # 外参数\n",
    "print(\"===================\")\n",
    "\n",
    "\n",
    "\n",
    "cv2.destroyAllWindows()"
   ]
  },
  {
   "cell_type": "markdown",
   "metadata": {},
   "source": [
    "# Parameter of right camera"
   ]
  },
  {
   "cell_type": "code",
   "execution_count": 10,
   "metadata": {},
   "outputs": [
    {
     "ename": "TypeError",
     "evalue": "calibrateCamera() missing required argument 'cameraMatrix' (pos 4)",
     "output_type": "error",
     "traceback": [
      "\u001b[1;31m---------------------------------------------------------------------------\u001b[0m",
      "\u001b[1;31mTypeError\u001b[0m                                 Traceback (most recent call last)",
      "\u001b[1;32m<ipython-input-10-089b164d2ef2>\u001b[0m in \u001b[0;36m<module>\u001b[1;34m\u001b[0m\n\u001b[0;32m     26\u001b[0m \u001b[1;33m\u001b[0m\u001b[0m\n\u001b[0;32m     27\u001b[0m \u001b[1;31m# 相機校正\u001b[0m\u001b[1;33m\u001b[0m\u001b[1;33m\u001b[0m\u001b[1;33m\u001b[0m\u001b[0m\n\u001b[1;32m---> 28\u001b[1;33m \u001b[0mright_ret\u001b[0m\u001b[1;33m,\u001b[0m \u001b[0mright_mtx\u001b[0m\u001b[1;33m,\u001b[0m \u001b[0mright_dist\u001b[0m\u001b[1;33m,\u001b[0m \u001b[0mright_rvecs\u001b[0m\u001b[1;33m,\u001b[0m \u001b[0mright_tvecs\u001b[0m \u001b[1;33m=\u001b[0m \u001b[0mcv2\u001b[0m\u001b[1;33m.\u001b[0m\u001b[0mcalibrateCamera\u001b[0m\u001b[1;33m(\u001b[0m\u001b[0mobjpoints\u001b[0m\u001b[1;33m,\u001b[0m \u001b[0mimgpoints\u001b[0m\u001b[1;33m,\u001b[0m\u001b[0msize\u001b[0m\u001b[1;33m)\u001b[0m\u001b[1;33m\u001b[0m\u001b[1;33m\u001b[0m\u001b[0m\n\u001b[0m\u001b[0;32m     29\u001b[0m \u001b[1;33m\u001b[0m\u001b[0m\n\u001b[0;32m     30\u001b[0m \u001b[0mprint\u001b[0m\u001b[1;33m(\u001b[0m\u001b[1;34m\"right_ret: {}\"\u001b[0m\u001b[1;33m.\u001b[0m\u001b[0mformat\u001b[0m\u001b[1;33m(\u001b[0m\u001b[0mright_ret\u001b[0m\u001b[1;33m)\u001b[0m\u001b[1;33m)\u001b[0m\u001b[1;33m\u001b[0m\u001b[1;33m\u001b[0m\u001b[0m\n",
      "\u001b[1;31mTypeError\u001b[0m: calibrateCamera() missing required argument 'cameraMatrix' (pos 4)"
     ]
    }
   ],
   "source": [
    "# Arrays to store object points and image points from all the images.\n",
    "objpoints = [] # 3d point in real world space\n",
    "imgpoints = [] # 2d points in image plane.\n",
    "\n",
    "images = glob.glob('right.jpg')\n",
    "\n",
    "for fname in images:\n",
    "    img = cv2.imread(fname)\n",
    "    gray = cv2.cvtColor(img,cv2.COLOR_BGR2GRAY)\n",
    "    size = gray.shape[::-1]\n",
    "    \n",
    "    # Find the chess board corners\n",
    "    ret, corners = cv2.findChessboardCorners(gray, (nCols,nRows),None)\n",
    "\n",
    "    # If found, add object points, image points (after refining them)\n",
    "    if ret == True:\n",
    "        objpoints.append(objp)\n",
    "        corners2 = cv2.cornerSubPix(gray,corners,(11,11),(-1,-1),criteria)\n",
    "        imgpoints.append(corners2)\n",
    "\n",
    "        # Draw and display the corners\n",
    "        img = cv2.drawChessboardCorners(img, (nCols, nRows), corners2,ret)\n",
    "        img = cv2.resize(img, (img.shape[1]//2, img.shape[0]//2))\n",
    "        cv2.imshow('img',img)\n",
    "        cv2.waitKey(0)\n",
    "\n",
    "# 相機校正\n",
    "right_ret, right_mtx, right_dist, right_rvecs, right_tvecs = cv2.calibrateCamera(objpoints, imgpoints,size)\n",
    " \n",
    "print(\"right_ret: {}\".format(right_ret))\n",
    "print(\"right_mtx: {}\".format(right_mtx))        # 內部參數矩陣\n",
    "print(\"right_dist: {}\".format(right_dist))      # 畸變係數   distortion cofficients = (k_1,k_2,p_1,p_2,k_3)\n",
    "print(\"right_rvecs: {}\".format(right_rvecs))    # 旋转向量  # 外参数\n",
    "print(\"right_tvecs: {}\".format(right_tvecs))    # 平移向量  # 外参数\n",
    "print(\"===================\")\n",
    "cv2.destroyAllWindows()"
   ]
  },
  {
   "cell_type": "markdown",
   "metadata": {},
   "source": [
    "# Find Fundamental matrix"
   ]
  },
  {
   "cell_type": "code",
   "execution_count": 11,
   "metadata": {},
   "outputs": [],
   "source": [
    "from matplotlib import pyplot as plt\n",
    "\n",
    "# left = cv2.imread('left.jpg', 0)\n",
    "# right = cv2.imread('right.jpg', 0)\n",
    "\n",
    "left = left_rotated\n",
    "right = right_rotated\n",
    "\n",
    "left = cv2.cvtColor(left, cv2.COLOR_BGR2GRAY)\n",
    "right = cv2.cvtColor(right, cv2.COLOR_BGR2GRAY)\n",
    "\n",
    "sift = cv2.xfeatures2d.SIFT_create()\n",
    "\n",
    "# find the keypoints and descriptors with SIFT\n",
    "kp1, des1 = sift.detectAndCompute(left, None)\n",
    "kp2, des2 = sift.detectAndCompute(right, None)\n",
    "\n",
    "# FLANN parameters\n",
    "FLANN_INDEX_KDTREE = 1\n",
    "index_params = dict(algorithm = FLANN_INDEX_KDTREE, trees = 5)\n",
    "search_params = dict(checks=50)\n",
    "\n",
    "flann = cv2.FlannBasedMatcher(index_params, search_params)\n",
    "matches = flann.knnMatch(des1, des2, k=2)\n",
    "\n",
    "good = []\n",
    "pts1 = []\n",
    "pts2 = []\n",
    "\n",
    "# ratio test as per Lowe's paper\n",
    "for i, (m, n) in enumerate(matches):\n",
    "    if m.distance < 0.8*n.distance:\n",
    "        good.append(m)\n",
    "        pts2.append(kp2[m.trainIdx].pt)\n",
    "        pts1.append(kp1[m.queryIdx].pt)\n",
    "        \n",
    "pts1 = np.int32(pts1)\n",
    "pts2 = np.int32(pts2)\n",
    "\n",
    "# find fundamental matrix\n",
    "F, mask = cv2.findFundamentalMat(pts1, pts2, cv2.FM_LMEDS)\n",
    "\n",
    "# we select only inlier points\n",
    "pts1 = pts1[mask.ravel() == 1]\n",
    "pts2 = pts2[mask.ravel() == 1]"
   ]
  },
  {
   "cell_type": "code",
   "execution_count": 12,
   "metadata": {},
   "outputs": [],
   "source": [
    "def drawLines(img1, img2, lines, pts1, pts2):\n",
    "# img1 - image on which we draw the epilines for the points in img2\n",
    "# lines - correspoding epilines\n",
    "\n",
    "    r, c = img1.shape\n",
    "    img1 = cv2.cvtColor(img1, cv2.COLOR_GRAY2BGR)\n",
    "    img2 = cv2.cvtColor(img2, cv2.COLOR_GRAY2BGR)\n",
    "\n",
    "    for r, pt1, pt2 in zip(lines, pts1, pts2):\n",
    "        color = tuple(np.random.randint(0, 255, 3).tolist())\n",
    "        x0, y0 = map(int, [0, -r[2]/r[1]])\n",
    "        x1, y1 = map(int, [c, -(r[2]+r[0]*c)/r[1] ])\n",
    "        img1 = cv2.line(img1, (x0,y0), (x1,y1), color, 2)\n",
    "        img1 = cv2.circle(img1, tuple(pt1), 7, color, 10)\n",
    "        img2 = cv2.circle(img2, tuple(pt2), 7, color, 10)\n",
    "\n",
    "    return img1, img2"
   ]
  },
  {
   "cell_type": "code",
   "execution_count": 14,
   "metadata": {},
   "outputs": [],
   "source": [
    "# Find epilines corresponding to points in right image(second image) and drawing ites line on left image\n",
    "lines1 = cv2.computeCorrespondEpilines(pts2.reshape(-1, 1, 2), 2, F)\n",
    "lines1 = lines1.reshape(-1, 3)\n",
    "img3, img4 = drawLines(left, right, lines1, pts1, pts2)\n",
    "\n",
    "# Find epilines corrsponding to points in left image(first image) and drawing its lines on right image\n",
    "lines2 = cv2.computeCorrespondEpilines(pts1.reshape(-1, 1, 2), 1, F)\n",
    "lines2 = lines2.reshape(-1, 3)\n",
    "img5, img6 = drawLines(right, left, lines2, pts2, pts1)\n",
    "\n",
    "# plt.subplot(121), plt.imshow(img3)\n",
    "# plt.subplot(122), plt.imshow(img5)\n",
    "# plt.show()\n",
    "\n",
    "cv2.imshow('img3', img3)\n",
    "cv2.imshow('img5', img5)\n",
    "cv2.waitKey(0)\n",
    "cv2.destroyAllWindows()"
   ]
  },
  {
   "cell_type": "markdown",
   "metadata": {},
   "source": [
    "# Image Rectification"
   ]
  },
  {
   "cell_type": "code",
   "execution_count": 4,
   "metadata": {},
   "outputs": [
    {
     "name": "stdout",
     "output_type": "stream",
     "text": [
      "[[6.04965526e+00]\n",
      " [2.78275783e+00]\n",
      " [8.16008914e-04]]\n",
      "[[ 9.08495212e-01  4.17895244e-01  1.22542551e-04]\n",
      " [-4.17895247e-01  9.08495219e-01  0.00000000e+00]\n",
      " [-1.11329322e-04 -5.12099499e-05  9.99999992e-01]]\n"
     ]
    }
   ],
   "source": [
    "import math\n",
    "\n",
    "# r_tvecs = np.array(right_tvecs[0]).flatten()\n",
    "# l_tvecs = np.array(left_tvecs[0]).flatten()\n",
    "# rotate_matrix = cv2.Rodrigues(left_rvecs[0])[0]\n",
    "\n",
    "# choose orthogonal basis\n",
    "# T = (r_tvecs - l_tvecs)\n",
    "\n",
    "e1 = T.flatten()\n",
    "e2 = np.array([-1 * e1[1], e1[0], 0])\n",
    "e3 = np.cross(e1, e2)\n",
    "\n",
    "print(T)\n",
    "\n",
    "# normalize\n",
    "e1 = e1 / np.linalg.norm(e1, 2)\n",
    "e2 = e2 / np.linalg.norm(e2, 2)\n",
    "e3 = e3 / np.linalg.norm(e3, 2)\n",
    "\n",
    "# assert\n",
    "assert np.inner(e1, e3) < 1e-10\n",
    "assert np.inner(e2, e3) < 1e-10\n",
    "assert np.inner(e1, e2) < 1e-10\n",
    "\n",
    "rotate_rec = np.array([e1.T, e2.T, e3.T])\n",
    "print(rotate_rec)\n"
   ]
  },
  {
   "cell_type": "markdown",
   "metadata": {},
   "source": [
    "# Rotate left image "
   ]
  },
  {
   "cell_type": "code",
   "execution_count": 6,
   "metadata": {},
   "outputs": [],
   "source": [
    "left = cv2.imread(\"left.jpg\")\n",
    "left_rotated = cv2.warpPerspective(left, rotate_rec, (left.shape[1], left.shape[0])) \n",
    "\n",
    "left = cv2.resize(left, (left.shape[1]//4, left.shape[0]//4))\n",
    "left_rotated = cv2.resize(left_rotated, (left_rotated.shape[1]//4, left_rotated.shape[0]//4))\n",
    "\n",
    "cv2.imshow(\"orgi\", left)\n",
    "cv2.imshow(\"left_rotated\", left_rotated)\n",
    "cv2.waitKey(0)\n",
    "cv2.destroyAllWindows()"
   ]
  },
  {
   "cell_type": "markdown",
   "metadata": {},
   "source": [
    "# Rotate right imgage"
   ]
  },
  {
   "cell_type": "code",
   "execution_count": 7,
   "metadata": {},
   "outputs": [],
   "source": [
    "right = cv2.imread(\"right.jpg\")\n",
    "right_rotated = cv2.warpPerspective(right, rotate_rec, (right.shape[1], right.shape[0]))\n",
    "right_rotated = cv2.warpPerspective(right_rotated, R, (right.shape[1], right.shape[0]))\n",
    "\n",
    "right = cv2.resize(right, (right.shape[1]//4, right.shape[0]//4))\n",
    "right_rotated = cv2.resize(right_rotated, (right_rotated.shape[1]//4, right_rotated.shape[0]//4))\n",
    "\n",
    "cv2.imshow(\"orgi\", right)\n",
    "cv2.imshow(\"right_rotated\", right_rotated)\n",
    "cv2.waitKey(0)\n",
    "cv2.destroyAllWindows()"
   ]
  },
  {
   "cell_type": "code",
   "execution_count": 10,
   "metadata": {},
   "outputs": [
    {
     "name": "stdout",
     "output_type": "stream",
     "text": [
      "(-0.06672883341645154, 0.12394726991513878, -0.01836739381351619)\n",
      "[[ 0.99216303  0.01417727  0.12414316]\n",
      " [-0.02243425  0.99760897  0.06536854]\n",
      " [-0.12291958 -0.06764131  0.9901088 ]]\n"
     ]
    }
   ],
   "source": [
    "import math\n",
    "import numpy as np\n",
    "print(tuple(left_rvecs[0].flatten()))\n",
    "R = cv2.Rodrigues(left_rvecs[0])\n",
    "print(R[0])"
   ]
  },
  {
   "cell_type": "code",
   "execution_count": 11,
   "metadata": {},
   "outputs": [
    {
     "name": "stdout",
     "output_type": "stream",
     "text": [
      "(0.2, 0.4, 0.8)\n",
      "[[ 0.62722765 -0.65533377  0.42085997]\n",
      " [ 0.72988824  0.6831435  -0.02404381]\n",
      " [-0.27175103  0.32226169  0.90680691]]\n"
     ]
    }
   ],
   "source": [
    "\n",
    "a = (0.2,0.4,0.8)\n",
    "print (a)\n",
    "R = cv2.Rodrigues(a)\n",
    "print (R[0])"
   ]
  },
  {
   "cell_type": "code",
   "execution_count": 23,
   "metadata": {},
   "outputs": [
    {
     "name": "stdout",
     "output_type": "stream",
     "text": [
      "right_ret: 5.2809885243624946\n",
      "right_mtx: [[2.87429613e+03 0.00000000e+00 1.38678563e+03]\n",
      " [0.00000000e+00 3.59412012e+03 2.43206382e+03]\n",
      " [0.00000000e+00 0.00000000e+00 1.00000000e+00]]\n",
      "right_dist: [[ 0.17008908  0.5594629  -0.11466527  0.03202325 -1.73737707]]\n",
      "right_rvecs: [array([[ 0.21536264],\n",
      "       [-0.69502468],\n",
      "       [-3.16430504]]), array([[ 1.42988455],\n",
      "       [ 0.78369162],\n",
      "       [-0.96612497]]), array([[ 0.03491094],\n",
      "       [-0.7407694 ],\n",
      "       [-2.82817753]]), array([[ 0.15733505],\n",
      "       [-0.71284472],\n",
      "       [-3.16127251]]), array([[-0.30602719],\n",
      "       [-0.57462676],\n",
      "       [-1.88024326]]), array([[-0.31468843],\n",
      "       [-0.40949656],\n",
      "       [-1.5069855 ]]), array([[-0.28969038],\n",
      "       [-0.30249604],\n",
      "       [-1.30432728]]), array([[-0.38160499],\n",
      "       [-0.40300393],\n",
      "       [-1.42393631]]), array([[-0.32094819],\n",
      "       [-0.49639008],\n",
      "       [-1.65967493]]), array([[ 1.32100755],\n",
      "       [ 1.04469551],\n",
      "       [-1.35973864]]), array([[ 0.75415597],\n",
      "       [-1.30000132],\n",
      "       [ 1.22146108]])]\n",
      "right_tvecs: [array([[-27.19837169],\n",
      "       [-47.11701391],\n",
      "       [ 95.67719765]]), array([[-24.44506875],\n",
      "       [-32.46182214],\n",
      "       [ 67.56387827]]), array([[-19.04408208],\n",
      "       [-32.12104231],\n",
      "       [ 68.14193854]]), array([[-21.28924787],\n",
      "       [-35.5399958 ],\n",
      "       [ 74.36371433]]), array([[-22.19805622],\n",
      "       [-30.27654478],\n",
      "       [ 64.47173932]]), array([[-29.60933693],\n",
      "       [-44.68076385],\n",
      "       [ 94.72181037]]), array([[-41.32002125],\n",
      "       [-51.20415409],\n",
      "       [106.3798547 ]]), array([[-27.1820038 ],\n",
      "       [-34.6563981 ],\n",
      "       [ 72.65579342]]), array([[-25.41733838],\n",
      "       [-32.26223475],\n",
      "       [ 68.42720194]]), array([[-29.96851247],\n",
      "       [-41.28470297],\n",
      "       [ 87.51658235]]), array([[-23.79295501],\n",
      "       [-42.33669912],\n",
      "       [ 78.72173258]])]\n",
      "===================\n"
     ]
    }
   ],
   "source": []
  },
  {
   "cell_type": "code",
   "execution_count": null,
   "metadata": {},
   "outputs": [],
   "source": []
  },
  {
   "cell_type": "code",
   "execution_count": null,
   "metadata": {},
   "outputs": [],
   "source": []
  }
 ],
 "metadata": {
  "kernelspec": {
   "display_name": "Python 3",
   "language": "python",
   "name": "python3"
  },
  "language_info": {
   "codemirror_mode": {
    "name": "ipython",
    "version": 3
   },
   "file_extension": ".py",
   "mimetype": "text/x-python",
   "name": "python",
   "nbconvert_exporter": "python",
   "pygments_lexer": "ipython3",
   "version": "3.7.4"
  }
 },
 "nbformat": 4,
 "nbformat_minor": 2
}
