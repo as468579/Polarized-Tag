{
 "cells": [
  {
   "cell_type": "code",
   "execution_count": 91,
   "metadata": {},
   "outputs": [
    {
     "data": {
      "text/plain": [
       "True"
      ]
     },
     "execution_count": 91,
     "metadata": {},
     "output_type": "execute_result"
    }
   ],
   "source": [
    "import cv2\n",
    "import numpy as np\n",
    "img = cv2.imread('tags.jpg')\n",
    "img = cv2.resize(img, (img.shape[1]//4, img.shape[0]//4))\n",
    "marginX = 200;\n",
    "marginY = 350; \n",
    "centerX = 650;\n",
    "centerY = 375;\n",
    "img = img[centerX-marginX:centerX+marginX, centerY-marginY:centerY+marginY]\n",
    "cv2.imshow('myImage', img)\n",
    "cv2.waitKey(0)\n",
    "cv2.imwrite('tags.jpg', img)"
   ]
  },
  {
   "cell_type": "code",
   "execution_count": 31,
   "metadata": {},
   "outputs": [
    {
     "name": "stdout",
     "output_type": "stream",
     "text": [
      "(200, 1079, 3)\n"
     ]
    }
   ],
   "source": [
    "img = img[centerX-margin:centerX+margin]\n",
    "print(img.shape)"
   ]
  },
  {
   "cell_type": "code",
   "execution_count": 32,
   "metadata": {},
   "outputs": [
    {
     "name": "stdout",
     "output_type": "stream",
     "text": [
      "(1079, 3)\n"
     ]
    }
   ],
   "source": [
    "print(img[:][1].shape)"
   ]
  },
  {
   "cell_type": "code",
   "execution_count": null,
   "metadata": {},
   "outputs": [],
   "source": []
  }
 ],
 "metadata": {
  "kernelspec": {
   "display_name": "Python 3",
   "language": "python",
   "name": "python3"
  },
  "language_info": {
   "codemirror_mode": {
    "name": "ipython",
    "version": 3
   },
   "file_extension": ".py",
   "mimetype": "text/x-python",
   "name": "python",
   "nbconvert_exporter": "python",
   "pygments_lexer": "ipython3",
   "version": "3.6.5"
  }
 },
 "nbformat": 4,
 "nbformat_minor": 2
}
