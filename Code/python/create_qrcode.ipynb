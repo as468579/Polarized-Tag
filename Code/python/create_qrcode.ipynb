{
 "cells": [
  {
   "cell_type": "code",
   "execution_count": 21,
   "metadata": {},
   "outputs": [],
   "source": [
    "import qrcode\n",
    "import numpy as np\n",
    "\n",
    "a = np.ones(2000, dtype = np.uint8)\n",
    "output = \"\"\n",
    "for i in range(2000):\n",
    "    output = output + str(i)\n",
    "    \n",
    "for i in range(50):\n",
    "    output = output + '2'\n",
    "qr = qrcode.QRCode(\n",
    "version = 1,\n",
    "error_correction=qrcode.constants.ERROR_CORRECT_L,\n",
    "box_size = 10,\n",
    "border = 4\n",
    ")\n",
    "\n",
    "# 若qr code發現資料量太大，他會幫你把version往上加\n",
    "qr.add_data(output)\n",
    "img = qr.make_image()\n",
    "img.save(\"test.png\") # 儲存圖片\n"
   ]
  },
  {
   "cell_type": "code",
   "execution_count": null,
   "metadata": {},
   "outputs": [],
   "source": [
    "# image size = (# of pixels in each edge) * box_size + 2 * border"
   ]
  },
  {
   "cell_type": "code",
   "execution_count": 10,
   "metadata": {},
   "outputs": [
    {
     "data": {
      "text/plain": [
       "144.15"
      ]
     },
     "execution_count": 10,
     "metadata": {},
     "output_type": "execute_result"
    }
   ],
   "source": [
    "# 版本1(21*21)中能儲存資料的約只有216個bit(含Mode Indicator, EC code, data code)\n",
    "# Mode Indicator 約佔 (4/14)\n",
    "# EC Code 根據 level 不同而改變\n",
    "216 * (1- 4/14) * 0.93"
   ]
  },
  {
   "cell_type": "code",
   "execution_count": 11,
   "metadata": {},
   "outputs": [
    {
     "data": {
      "text/plain": [
       "152"
      ]
     },
     "execution_count": 11,
     "metadata": {},
     "output_type": "execute_result"
    }
   ],
   "source": [
    "19*8"
   ]
  },
  {
   "cell_type": "code",
   "execution_count": 12,
   "metadata": {},
   "outputs": [
    {
     "data": {
      "text/plain": [
       "96"
      ]
     },
     "execution_count": 12,
     "metadata": {},
     "output_type": "execute_result"
    }
   ],
   "source": [
    "12*8"
   ]
  },
  {
   "cell_type": "code",
   "execution_count": 13,
   "metadata": {},
   "outputs": [
    {
     "data": {
      "text/plain": [
       "208"
      ]
     },
     "execution_count": 13,
     "metadata": {},
     "output_type": "execute_result"
    }
   ],
   "source": [
    "26* 8"
   ]
  },
  {
   "cell_type": "code",
   "execution_count": null,
   "metadata": {},
   "outputs": [],
   "source": []
  }
 ],
 "metadata": {
  "kernelspec": {
   "display_name": "Python 3",
   "language": "python",
   "name": "python3"
  },
  "language_info": {
   "codemirror_mode": {
    "name": "ipython",
    "version": 3
   },
   "file_extension": ".py",
   "mimetype": "text/x-python",
   "name": "python",
   "nbconvert_exporter": "python",
   "pygments_lexer": "ipython3",
   "version": "3.7.4"
  }
 },
 "nbformat": 4,
 "nbformat_minor": 2
}
